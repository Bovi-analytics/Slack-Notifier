{
 "cells": [
  {
   "cell_type": "markdown",
   "metadata": {
    "application/vnd.databricks.v1+cell": {
     "cellMetadata": {},
     "inputWidgets": {},
     "nuid": "c7a0b490-ecac-4d96-b91a-851a7ae52904",
     "showTitle": false,
     "tableResultSettingsMap": {},
     "title": ""
    }
   },
   "source": [
    "# 1. Get the webhook URL."
   ]
  },
  {
   "cell_type": "markdown",
   "metadata": {
    "application/vnd.databricks.v1+cell": {
     "cellMetadata": {},
     "inputWidgets": {},
     "nuid": "55076b8f-3979-4449-930f-b78b2629a369",
     "showTitle": false,
     "tableResultSettingsMap": {},
     "title": ""
    }
   },
   "source": [
    "- Use this [link](https://api.slack.com/apps?new_app=1), to access Slack, connect and click on \"Create New App\" then pick \"From scratch\".\n",
    "- Name your App and pick a workspace.\n",
    "- In \"Features > Incoming Webhooks\", activate incoming webhooks.\n",
    "- Click on \"Add New Webhooks\" and select a channel\n",
    "- Copy the webhook URL you've just created."
   ]
  },
  {
   "cell_type": "markdown",
   "metadata": {
    "application/vnd.databricks.v1+cell": {
     "cellMetadata": {},
     "inputWidgets": {},
     "nuid": "fad83fae-ced4-4694-811a-5beb6e9df53f",
     "showTitle": false,
     "tableResultSettingsMap": {},
     "title": ""
    }
   },
   "source": [
    "# 2. Send a notification in a Notebook"
   ]
  },
  {
   "cell_type": "markdown",
   "metadata": {
    "application/vnd.databricks.v1+cell": {
     "cellMetadata": {},
     "inputWidgets": {},
     "nuid": "fd07d809-29cc-4594-b423-9b9603f47987",
     "showTitle": false,
     "tableResultSettingsMap": {},
     "title": ""
    }
   },
   "source": [
    "Now that you have your URL, you can the small function below and to send notifications to your channel."
   ]
  },
  {
   "cell_type": "code",
   "execution_count": 0,
   "metadata": {
    "application/vnd.databricks.v1+cell": {
     "cellMetadata": {},
     "inputWidgets": {},
     "nuid": "5117d553-a0a0-4466-8b29-84341495207e",
     "showTitle": false,
     "tableResultSettingsMap": {},
     "title": ""
    }
   },
   "outputs": [],
   "source": [
    "import requests\n",
    "import json\n",
    "\n",
    "def send_slack_messages(webhook_url, channel, messages):\n",
    "    \"\"\"\n",
    "    Sends a list of messages to Slack using the provided webhook URL.\n",
    "    Args:\n",
    "        webhook_url (str): The Slack Incoming Webhook URL.\n",
    "        channel (str): The Slack channel to send the messages to (e.g., \"#your-channel\").\n",
    "        messages (list): A list of message content to send to Slack.\n",
    "    \"\"\"\n",
    "    blocks = []\n",
    "    for message in messages:\n",
    "        block = {\n",
    "            \"type\": \"section\",\n",
    "            \"text\": {\n",
    "                \"type\": \"mrkdwn\",\n",
    "                \"text\": message\n",
    "            }\n",
    "        }\n",
    "        blocks.append(block)\n",
    "    payload = {\n",
    "        \"channel\": channel,\n",
    "        \"blocks\": blocks\n",
    "    }\n",
    "    headers = {\n",
    "        \"Content-Type\": \"application/json\"\n",
    "    }\n",
    "    response = requests.post(webhook_url, json=payload, headers=headers)\n",
    "    if response.status_code != 200:\n",
    "        raise ValueError(f\"Error sending Slack messages: {response.text}\")\n",
    "\n",
    "# Function from abdelbarrechafik"
   ]
  },
  {
   "cell_type": "code",
   "execution_count": 0,
   "metadata": {
    "application/vnd.databricks.v1+cell": {
     "cellMetadata": {},
     "inputWidgets": {},
     "nuid": "db65b7bd-1120-46cd-82f2-1aede0280d90",
     "showTitle": false,
     "tableResultSettingsMap": {},
     "title": ""
    }
   },
   "outputs": [],
   "source": [
    "webhook_url = \"YOUR_WEBHOOK_URL\"\n",
    "channel = \"#your-channel\"\n",
    "messages = [\n",
    "    \"Hello from Databricks!\",\n",
    "    \"This is a test message.\",\n",
    "    \"Another message example.\"\n",
    "]\n",
    "send_slack_messages(webhook_url, channel, messages)"
   ]
  },
  {
   "cell_type": "markdown",
   "metadata": {
    "application/vnd.databricks.v1+cell": {
     "cellMetadata": {},
     "inputWidgets": {},
     "nuid": "2bd5d769-f46d-4d12-a931-d5770eca324e",
     "showTitle": false,
     "tableResultSettingsMap": {},
     "title": ""
    }
   },
   "source": [
    "Sources:\n",
    "- https://medium.com/@abdelbarrechafik/seamlessly-send-messages-from-databricks-to-slack-ideal-for-data-quality-c4e7929005e\n",
    "- https://docs.slack.dev/messaging/sending-messages-using-incoming-webhooks/"
   ]
  }
 ],
 "metadata": {
  "application/vnd.databricks.v1+notebook": {
   "computePreferences": null,
   "dashboards": [],
   "environmentMetadata": {
    "base_environment": "",
    "environment_version": "3"
   },
   "inputWidgetPreferences": null,
   "language": "python",
   "notebookMetadata": {
    "pythonIndentUnit": 4
   },
   "notebookName": "create_slack_notifier",
   "widgets": {}
  },
  "language_info": {
   "name": "python"
  }
 },
 "nbformat": 4,
 "nbformat_minor": 0
}
